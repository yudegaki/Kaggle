{
  "nbformat": 4,
  "nbformat_minor": 0,
  "metadata": {
    "colab": {
      "name": "titanic.ipynb",
      "provenance": [],
      "collapsed_sections": [],
      "mount_file_id": "1Ndd2U04L0DarLvvcraRDFNytBZdLGFyA",
      "authorship_tag": "ABX9TyPcUp3p99dWbvXZ6MYGWDeV",
      "include_colab_link": true
    },
    "kernelspec": {
      "name": "python3",
      "display_name": "Python 3"
    }
  },
  "cells": [
    {
      "cell_type": "markdown",
      "metadata": {
        "id": "view-in-github",
        "colab_type": "text"
      },
      "source": [
        "<a href=\"https://colab.research.google.com/github/yudegaki/Kaggle/blob/master/titanic/titanic.ipynb\" target=\"_parent\"><img src=\"https://colab.research.google.com/assets/colab-badge.svg\" alt=\"Open In Colab\"/></a>"
      ]
    },
    {
      "cell_type": "code",
      "metadata": {
        "id": "1DYVm6J9uyoy",
        "colab_type": "code",
        "outputId": "ef51422f-90a0-433a-89dd-79300a3e0e37",
        "colab": {
          "base_uri": "https://localhost:8080/",
          "height": 326
        }
      },
      "source": [
        "!nvidia-smi"
      ],
      "execution_count": 1,
      "outputs": [
        {
          "output_type": "stream",
          "text": [
            "Mon Jun  8 02:06:32 2020       \n",
            "+-----------------------------------------------------------------------------+\n",
            "| NVIDIA-SMI 440.82       Driver Version: 418.67       CUDA Version: 10.1     |\n",
            "|-------------------------------+----------------------+----------------------+\n",
            "| GPU  Name        Persistence-M| Bus-Id        Disp.A | Volatile Uncorr. ECC |\n",
            "| Fan  Temp  Perf  Pwr:Usage/Cap|         Memory-Usage | GPU-Util  Compute M. |\n",
            "|===============================+======================+======================|\n",
            "|   0  Tesla P4            Off  | 00000000:00:04.0 Off |                    0 |\n",
            "| N/A   49C    P8     7W /  75W |      0MiB /  7611MiB |      0%      Default |\n",
            "+-------------------------------+----------------------+----------------------+\n",
            "                                                                               \n",
            "+-----------------------------------------------------------------------------+\n",
            "| Processes:                                                       GPU Memory |\n",
            "|  GPU       PID   Type   Process name                             Usage      |\n",
            "|=============================================================================|\n",
            "|  No running processes found                                                 |\n",
            "+-----------------------------------------------------------------------------+\n"
          ],
          "name": "stdout"
        }
      ]
    },
    {
      "cell_type": "code",
      "metadata": {
        "id": "k0gCvuZyvvt5",
        "colab_type": "code",
        "outputId": "14300a3a-06a2-4753-a6ca-8d5e2593c6b9",
        "colab": {
          "base_uri": "https://localhost:8080/",
          "height": 35
        }
      },
      "source": [
        "cd drive/'My Drive'/J1seminar/titanic"
      ],
      "execution_count": 5,
      "outputs": [
        {
          "output_type": "stream",
          "text": [
            "/content/drive/My Drive/J1seminar/titanic\n"
          ],
          "name": "stdout"
        }
      ]
    },
    {
      "cell_type": "code",
      "metadata": {
        "id": "bVrItKFRxDGt",
        "colab_type": "code",
        "colab": {}
      },
      "source": [
        "import numpy as np\n",
        "import pandas as pd \n",
        "import matplotlib.pyplot as plt\n",
        "from sklearn.tree import DecisionTreeClassifier\n",
        "from sklearn.ensemble import RandomForestClassifier,AdaBoostClassifier,BaggingClassifier,GradientBoostingClassifier\n",
        "from collections import Counter"
      ],
      "execution_count": 0,
      "outputs": []
    },
    {
      "cell_type": "code",
      "metadata": {
        "id": "Ron2HEy6y58W",
        "colab_type": "code",
        "colab": {}
      },
      "source": [
        "train_data = pd.read_csv(\"train.csv\")\n",
        "test_data = pd.read_csv(\"test.csv\")\n",
        "#train_data.head()"
      ],
      "execution_count": 0,
      "outputs": []
    },
    {
      "cell_type": "code",
      "metadata": {
        "id": "eQVficyWXEJX",
        "colab_type": "code",
        "outputId": "26b2b1c4-7f6f-4984-b4cb-d004679d5776",
        "colab": {
          "base_uri": "https://localhost:8080/",
          "height": 374
        }
      },
      "source": [
        "# pclassとfareの関係の解析\n",
        "pclass_fare = [train_data.loc[train_data.Pclass == i + 1].Fare for i in range(3)]\n",
        "pclass_labels = ['Death','Survived']\n",
        "plt.hist(pclass_fare,histtype = 'barstacked',label = pclass_labels)"
      ],
      "execution_count": 8,
      "outputs": [
        {
          "output_type": "execute_result",
          "data": {
            "text/plain": [
              "(array([[ 78.,  85.,  31.,   2.,  11.,   6.,   0.,   0.,   0.,   3.],\n",
              "        [255.,  92.,  31.,   2.,  11.,   6.,   0.,   0.,   0.,   3.],\n",
              "        [732., 106.,  31.,   2.,  11.,   6.,   0.,   0.,   0.,   3.]]),\n",
              " array([  0.     ,  51.23292, 102.46584, 153.69876, 204.93168, 256.1646 ,\n",
              "        307.39752, 358.63044, 409.86336, 461.09628, 512.3292 ]),\n",
              " <a list of 3 Lists of Patches objects>)"
            ]
          },
          "metadata": {
            "tags": []
          },
          "execution_count": 8
        },
        {
          "output_type": "display_data",
          "data": {
            "image/png": "[encoded data removed]",
            "text/plain": [
              "<Figure size 432x288 with 1 Axes>"
            ]
          },
          "metadata": {
            "tags": [],
            "needs_background": "light"
          }
        }
      ]
    },
    {
      "cell_type": "code",
      "metadata": {
        "id": "frTXOEV507hb",
        "colab_type": "code",
        "outputId": "53bdd9b8-16bf-4681-f5c4-7a3d128cd828",
        "colab": {
          "base_uri": "https://localhost:8080/",
          "height": 337
        }
      },
      "source": [
        "# Pclassによる生存者数の解析\n",
        "\n",
        "pclass = [train_data.loc[train_data.Pclass == i + 1] for i in range(3)]\n",
        "rate_pclass = [len(pclass[i][pclass[i].Survived == 1]) / len(pclass[i]) for i in range(3)]\n",
        "\n",
        "for i in range(len(rate_pclass)):\n",
        "    print(f\"pclass_{i}'s Survived rate : {rate_pclass[i]}\")\n",
        "\n",
        "plot_pclass = [train_data.loc[train_data.Survived == i].Pclass for i in range(2)]\n",
        "pclass_labels = ['Death','Survived']\n",
        "plt.hist(plot_pclass,histtype = 'barstacked',label = pclass_labels)\n",
        "plt.legend()"
      ],
      "execution_count": 9,
      "outputs": [
        {
          "output_type": "stream",
          "text": [
            "pclass_0's Survived rate : 0.6296296296296297\n",
            "pclass_1's Survived rate : 0.47282608695652173\n",
            "pclass_2's Survived rate : 0.24236252545824846\n"
          ],
          "name": "stdout"
        },
        {
          "output_type": "execute_result",
          "data": {
            "text/plain": [
              "<matplotlib.legend.Legend at 0x7fabc0499860>"
            ]
          },
          "metadata": {
            "tags": []
          },
          "execution_count": 9
        },
        {
          "output_type": "display_data",
          "data": {
            "image/png": "[encoded data removed]",
            "text/plain": [
              "<Figure size 432x288 with 1 Axes>"
            ]
          },
          "metadata": {
            "tags": [],
            "needs_background": "light"
          }
        }
      ]
    },
    {
      "cell_type": "code",
      "metadata": {
        "id": "B97XUPfSxu2l",
        "colab_type": "code",
        "outputId": "f3e07599-593d-477f-bd7a-e4986ebc435a",
        "colab": {
          "base_uri": "https://localhost:8080/",
          "height": 646
        }
      },
      "source": [
        "# Ageによる生存者数の解析( range_age 歳ごとに分類)\n",
        "\n",
        "range_age = 5\n",
        "\n",
        "split_age = [train_data.loc[(train_data.Age >= (i) * range_age) & (train_data.Age < (i + 1) * range_age)] for i in range(int(100 / range_age))]\n",
        "rate_age = [len(split_age[i][split_age[i].Survived == 1]) / max(1,len(split_age[i])) for i in range(int(100 / range_age))]\n",
        "\n",
        "for i in range(len(rate_age)):\n",
        "    print(f\"{i * range_age} <= age < {(i + 1) * range_age} 's Survived rate : {rate_age[i]}\")\n",
        "\n",
        "plot_age = [train_data.loc[train_data.Survived == i].Age for i in range(2)]\n",
        "age_labels = ['Death','Survived']\n",
        "plt.hist(plot_age,histtype = 'barstacked',bins=int(100/range_age),label = age_labels)\n",
        "plt.legend()"
      ],
      "execution_count": 10,
      "outputs": [
        {
          "output_type": "stream",
          "text": [
            "0 <= age < 5 's Survived rate : 0.675\n",
            "5 <= age < 10 's Survived rate : 0.5\n",
            "10 <= age < 15 's Survived rate : 0.4375\n",
            "15 <= age < 20 's Survived rate : 0.3953488372093023\n",
            "20 <= age < 25 's Survived rate : 0.34210526315789475\n",
            "25 <= age < 30 's Survived rate : 0.3584905660377358\n",
            "30 <= age < 35 's Survived rate : 0.42105263157894735\n",
            "35 <= age < 40 's Survived rate : 0.4583333333333333\n",
            "40 <= age < 45 's Survived rate : 0.375\n",
            "45 <= age < 50 's Survived rate : 0.3902439024390244\n",
            "50 <= age < 55 's Survived rate : 0.4375\n",
            "55 <= age < 60 's Survived rate : 0.375\n",
            "60 <= age < 65 's Survived rate : 0.4\n",
            "65 <= age < 70 's Survived rate : 0.0\n",
            "70 <= age < 75 's Survived rate : 0.0\n",
            "75 <= age < 80 's Survived rate : 0.0\n",
            "80 <= age < 85 's Survived rate : 1.0\n",
            "85 <= age < 90 's Survived rate : 0.0\n",
            "90 <= age < 95 's Survived rate : 0.0\n",
            "95 <= age < 100 's Survived rate : 0.0\n"
          ],
          "name": "stdout"
        },
        {
          "output_type": "execute_result",
          "data": {
            "text/plain": [
              "<matplotlib.legend.Legend at 0x7fabf0129eb8>"
            ]
          },
          "metadata": {
            "tags": []
          },
          "execution_count": 10
        },
        {
          "output_type": "display_data",
          "data": {
            "image/png": "[encoded data removed]",
            "text/plain": [
              "<Figure size 432x288 with 1 Axes>"
            ]
          },
          "metadata": {
            "tags": [],
            "needs_background": "light"
          }
        }
      ]
    },
    {
      "cell_type": "code",
      "metadata": {
        "id": "w4f6nOu2JEe5",
        "colab_type": "code",
        "outputId": "6d5d1514-c81a-469c-c438-b456e5c1d341",
        "colab": {
          "base_uri": "https://localhost:8080/",
          "height": 465
        }
      },
      "source": [
        "# SibSp + Parch 同乗している家族の数での解析\n",
        "train_data['Family'] = train_data.SibSp + train_data.Parch \n",
        "split_family = [train_data.loc[(train_data.Family == i)] for i in range(10)]\n",
        "rate_family = [len(split_family[i][split_family[i].Survived == 1]) / max(1,len(split_family[i])) for i in range(10)]\n",
        "for i in range(len(rate_family)):\n",
        "    print(f\"{i} family's rate :{rate_family[i]}\")\n",
        "\n",
        "plot_age = [train_data.loc[train_data.Survived == i].Family for i in range(2)]\n",
        "age_labels = ['Death','Survived']\n",
        "plt.hist(plot_age,histtype = 'barstacked',label = age_labels)\n",
        "plt.legend()"
      ],
      "execution_count": 11,
      "outputs": [
        {
          "output_type": "stream",
          "text": [
            "0 family's rate :0.30353817504655495\n",
            "1 family's rate :0.5527950310559007\n",
            "2 family's rate :0.5784313725490197\n",
            "3 family's rate :0.7241379310344828\n",
            "4 family's rate :0.2\n",
            "5 family's rate :0.13636363636363635\n",
            "6 family's rate :0.3333333333333333\n",
            "7 family's rate :0.0\n",
            "8 family's rate :0.0\n",
            "9 family's rate :0.0\n"
          ],
          "name": "stdout"
        },
        {
          "output_type": "execute_result",
          "data": {
            "text/plain": [
              "<matplotlib.legend.Legend at 0x7fabbffa00b8>"
            ]
          },
          "metadata": {
            "tags": []
          },
          "execution_count": 11
        },
        {
          "output_type": "display_data",
          "data": {
            "image/png": "[encoded data removed]",
            "text/plain": [
              "<Figure size 432x288 with 1 Axes>"
            ]
          },
          "metadata": {
            "tags": [],
            "needs_background": "light"
          }
        }
      ]
    },
    {
      "cell_type": "code",
      "metadata": {
        "id": "M0CLqnBWrYCi",
        "colab_type": "code",
        "outputId": "430da019-7853-41c3-bde7-1fdf507edce7",
        "colab": {
          "base_uri": "https://localhost:8080/",
          "height": 545
        }
      },
      "source": [
        "plot_Embarked = [train_data.loc[train_data.Survived == i].Embarked for i in range(2)]\n",
        "plt_Embarked = [[],[]]\n",
        "for i in range(len(plot_Embarked)):\n",
        "    for d in plot_Embarked[i]:\n",
        "        if type(d) == str:\n",
        "            plt_Embarked[i].append(d)\n",
        "        else:\n",
        "            plt_Embarked[i].append('X')\n",
        "\n",
        "print('Death')\n",
        "counts = Counter(plt_Embarked[0])\n",
        "df = pd.DataFrame.from_dict(counts,orient='index')\n",
        "df.plot(kind='bar')\n",
        "\n",
        "counts = Counter(plt_Embarked[1])\n",
        "df = pd.DataFrame.from_dict(counts,orient='index')\n",
        "df.plot(kind='bar')"
      ],
      "execution_count": 12,
      "outputs": [
        {
          "output_type": "stream",
          "text": [
            "Death\n"
          ],
          "name": "stdout"
        },
        {
          "output_type": "execute_result",
          "data": {
            "text/plain": [
              "<matplotlib.axes._subplots.AxesSubplot at 0x7fabbeabb0f0>"
            ]
          },
          "metadata": {
            "tags": []
          },
          "execution_count": 12
        },
        {
          "output_type": "display_data",
          "data": {
            "image/png": "[encoded data removed]",
            "text/plain": [
              "<Figure size 432x288 with 1 Axes>"
            ]
          },
          "metadata": {
            "tags": [],
            "needs_background": "light"
          }
        },
        {
          "output_type": "display_data",
          "data": {
            "image/png": "[encoded data removed]",
            "text/plain": [
              "<Figure size 432x288 with 1 Axes>"
            ]
          },
          "metadata": {
            "tags": [],
            "needs_background": "light"
          }
        }
      ]
    },
    {
      "cell_type": "code",
      "metadata": {
        "id": "971l5OxIyEIm",
        "colab_type": "code",
        "outputId": "8b51bb6d-24af-433b-eaff-abdd78194afd",
        "colab": {
          "base_uri": "https://localhost:8080/",
          "height": 54
        }
      },
      "source": [
        "women = train_data.loc[train_data.Sex == 'female']['Survived']\n",
        "rate_women = sum(women)/len(women)\n",
        "print(\"% of women who survived:\",rate_women)\n",
        "\n",
        "men = train_data.loc[train_data.Sex == 'male']['Survived']\n",
        "rate_men = sum(men)/len(men)\n",
        "print(\"% of men who survived:\",rate_men)\n"
      ],
      "execution_count": 13,
      "outputs": [
        {
          "output_type": "stream",
          "text": [
            "% of women who survived: 0.7420382165605095\n",
            "% of men who survived: 0.18890814558058924\n"
          ],
          "name": "stdout"
        }
      ]
    },
    {
      "cell_type": "code",
      "metadata": {
        "id": "iWl3vyi5LQi-",
        "colab_type": "code",
        "colab": {}
      },
      "source": [
        "#データの変数\n",
        "# PassengerId そのまま\n",
        "# Survived 生存しているか(1 == True)\n",
        "# Pclass チケットのランク(1 > 2 > 3)\n",
        "# Name そのまま\n",
        "# Sex そのまま\n",
        "# Age そのまま\n",
        "# SibSp 同乗している(兄弟||配偶者)の数\n",
        "# Parch 同乗している(親||子供)の数\n",
        "# SibSp + Parch 同乗している家族の数\n",
        "# Ticket チケット番号\n",
        "# Fare 料金\n",
        "# Cabin 客室番号\n",
        "# Embarked 出港地\n",
        "\n",
        "# train_data.head()\n",
        "# test_data.head()"
      ],
      "execution_count": 0,
      "outputs": []
    },
    {
      "cell_type": "code",
      "metadata": {
        "id": "sKMiP956Zkod",
        "colab_type": "code",
        "colab": {}
      },
      "source": [
        "#データの前処理\n",
        "train_data['Family'] = train_data['SibSp'] + train_data['Parch']\n",
        "test_data['Family'] = test_data['SibSp'] + test_data['Parch']"
      ],
      "execution_count": 0,
      "outputs": []
    },
    {
      "cell_type": "code",
      "metadata": {
        "id": "EWwR0J1jS-DT",
        "colab_type": "code",
        "colab": {}
      },
      "source": [
        "#データの前処理その1\n",
        "\n",
        "\n",
        "#名前が同じかつ、Familyが同じ場合は、同じ年齢付近であると推測できる(この際、配偶者数が一致していることも条件に加える)\n",
        "# データ数が少ないため、全探索を行う\n",
        "def guess_age(data,index):   \n",
        "    #とりあえず、年齢がNaNのデータの名前の中に以下のものがあったため、除く\n",
        "    guess_name = data['Name'][index].replace('Master.','').replace('Dr.','').replace('Miss.','').replace('Mrs.','').replace('Mr.','').replace('Ms.','').split()\n",
        "    \n",
        "    ret = 0\n",
        "    all = np.array(data['Age'])\n",
        "    all = all[~np.isnan(all)]\n",
        "    age = np.array([])\n",
        "    tmp = np.array([])\n",
        "    # 名前の一部が同じ && 同じ家族構成 && 同じチケットランクのものを \n",
        "    for i in range(len(data)):\n",
        "        for name in guess_name:\n",
        "            if (name in data['Name'][i]) and not(np.isnan(data['Age'][i])):\n",
        "                if (data['Family'][index] == data['Family'][i]) and (data['SibSp'][index] == data['SibSp'][i]):\n",
        "                    if(data['Pclass'][index] == data['Pclass'][i]):\n",
        "                        age = np.append(age,np.array([data['Age'][i]]))\n",
        "                    else:\n",
        "                        tmp = np.append(tmp,np.array([data['Age'][i]]))\n",
        "\n",
        "    if len(age) != 0:\n",
        "        ret = age.mean()\n",
        "    elif len(tmp) != 0:\n",
        "        ret = tmp.mean()\n",
        "    else:\n",
        "        ret = all.mean()\n",
        "\n",
        "    return ret\n",
        "\n",
        "\n",
        "for i in range(len(train_data.Age)):\n",
        "    # EmbarkedのnanをSにする(この処理は改善予定)\n",
        "    if not(type(train_data['Embarked'][i]) is str):\n",
        "        train_data.loc[i,'Embarked'] = 'S'\n",
        "    if np.isnan(train_data['Age'][i]):\n",
        "        train_data.loc[i,'Age'] = guess_age(train_data,i)\n",
        "\n",
        "for i in range(len(test_data.Age)):\n",
        "    if not(type(test_data['Embarked'][i]) is str):\n",
        "        test_data.loc[i,'Embarked'] = 'S'\n",
        "    if np.isnan(test_data['Age'][i]):\n",
        "        test_data.loc[i,'Age'] = guess_age(test_data,i)\n",
        "\n"
      ],
      "execution_count": 0,
      "outputs": []
    },
    {
      "cell_type": "code",
      "metadata": {
        "id": "7Auzs9jjw-ui",
        "colab_type": "code",
        "colab": {}
      },
      "source": [
        "#setdata\n",
        "y = train_data[\"Survived\"]\n",
        "\n",
        "features = [\"Pclass\",\"Sex\",\"Family\",\"Age\"]\n",
        "X = pd.get_dummies(train_data[features])\n",
        "X_test = pd.get_dummies(test_data[features])"
      ],
      "execution_count": 0,
      "outputs": []
    },
    {
      "cell_type": "code",
      "metadata": {
        "id": "oMkgE-4Zy2u-",
        "colab_type": "code",
        "outputId": "661a310c-ecc6-4f0d-aa31-d377c6a7a589",
        "colab": {
          "base_uri": "https://localhost:8080/",
          "height": 35
        }
      },
      "source": [
        "#RandomForest\n",
        "\n",
        "model_RF = RandomForestClassifier(n_estimators = 100, max_depth = 5, random_state = 1)\n",
        "model_RF.fit(X, y)\n",
        "predictions_RF = model_RF.predict(X_test)\n",
        "\n",
        "output_RF = pd.DataFrame({'PassengerId': test_data.PassengerId, 'Survived': predictions_RF})\n",
        "output_RF.to_csv('my_submission_RF.csv', index=False)\n",
        "print(\"Your submission was successfully saved!\")"
      ],
      "execution_count": 28,
      "outputs": [
        {
          "output_type": "stream",
          "text": [
            "Your submission was successfully saved!\n"
          ],
          "name": "stdout"
        }
      ]
    },
    {
      "cell_type": "code",
      "metadata": {
        "id": "SjHZ3TMqvfqa",
        "colab_type": "code",
        "colab": {
          "base_uri": "https://localhost:8080/",
          "height": 35
        },
        "outputId": "137f8f46-9b36-4bff-d6f5-ec5577792387"
      },
      "source": [
        "#Decision Tree\n",
        "\n",
        "model_DT = DecisionTreeClassifier(random_state = 1, max_depth = 5)\n",
        "model_DT.fit(X,y)\n",
        "predictions_DT = model_DT.predict(X_test)\n",
        "\n",
        "output_DT = pd.DataFrame({'PassengerId': test_data.PassengerId, 'Survived': predictions_DT})\n",
        "output_DT.to_csv('my_submission_DT.csv', index=False)\n",
        "print(\"Your submission was successfully saved!\")"
      ],
      "execution_count": 43,
      "outputs": [
        {
          "output_type": "stream",
          "text": [
            "Your submission was successfully saved!\n"
          ],
          "name": "stdout"
        }
      ]
    },
    {
      "cell_type": "code",
      "metadata": {
        "id": "QAupL3pNumW6",
        "colab_type": "code",
        "colab": {
          "base_uri": "https://localhost:8080/",
          "height": 35
        },
        "outputId": "307fe7ac-8992-4d40-acf1-fe0deee3cc81"
      },
      "source": [
        "#AdaBoost\n",
        "\n",
        "model_AB = AdaBoostClassifier(DecisionTreeClassifier(random_state=0),random_state = 1)\n",
        "model_AB.fit(X,y)\n",
        "predictions_AB = model_AB.predict(X_test)\n",
        "\n",
        "output_AB = pd.DataFrame({'PassengerId': test_data.PassengerId, 'Survived': predictions_AB})\n",
        "output_AB.to_csv('my_submission_AB.csv', index=False)\n",
        "print(\"Your submission was successfully saved!\")"
      ],
      "execution_count": 33,
      "outputs": [
        {
          "output_type": "stream",
          "text": [
            "Your submission was successfully saved!\n"
          ],
          "name": "stdout"
        }
      ]
    },
    {
      "cell_type": "code",
      "metadata": {
        "id": "E19IFwowz1tf",
        "colab_type": "code",
        "colab": {
          "base_uri": "https://localhost:8080/",
          "height": 35
        },
        "outputId": "cfd3954c-3348-4fed-f128-693a37b2948d"
      },
      "source": [
        "#Bagging\n",
        "model_B = BaggingClassifier(DecisionTreeClassifier(random_state=1),random_state = 1,n_estimators=100)\n",
        "model_B.fit(X,y)\n",
        "predictions_B = model_B.predict(X_test)\n",
        "\n",
        "output_B = pd.DataFrame({'PassengerId': test_data.PassengerId, 'Survived': predictions_B})\n",
        "output_B.to_csv('my_submission_B.csv', index=False)\n",
        "print(\"Your submission was successfully saved!\")"
      ],
      "execution_count": 39,
      "outputs": [
        {
          "output_type": "stream",
          "text": [
            "Your submission was successfully saved!\n"
          ],
          "name": "stdout"
        }
      ]
    },
    {
      "cell_type": "code",
      "metadata": {
        "id": "5248Igwx0uwQ",
        "colab_type": "code",
        "colab": {
          "base_uri": "https://localhost:8080/",
          "height": 35
        },
        "outputId": "efd2d1b3-8c3d-48e5-9cac-c4db742df8ab"
      },
      "source": [
        "#GradientBoost\n",
        "model_GB = GradientBoostingClassifier(random_state = 1)\n",
        "model_GB.fit(X,y)\n",
        "predictions_GB = model_GB.predict(X_test)\n",
        "\n",
        "output_GB = pd.DataFrame({'PassengerId': test_data.PassengerId, 'Survived': predictions_GB})\n",
        "output_GB.to_csv('my_submission_GB.csv', index=False)\n",
        "print(\"Your submission was successfully saved!\")"
      ],
      "execution_count": 38,
      "outputs": [
        {
          "output_type": "stream",
          "text": [
            "Your submission was successfully saved!\n"
          ],
          "name": "stdout"
        }
      ]
    },
    {
      "cell_type": "code",
      "metadata": {
        "id": "b3TqZQbJ1M-0",
        "colab_type": "code",
        "colab": {
          "base_uri": "https://localhost:8080/",
          "height": 35
        },
        "outputId": "548aaaec-1e60-4e48-a54c-933f70d46752"
      },
      "source": [
        "#Bagging & AdaBoost\n",
        "model_B_and_A = AdaBoostClassifier(BaggingClassifier(DecisionTreeClassifier(random_state = 1),n_estimators = 100,random_state = 1),random_state = 1)\n",
        "model_B_and_A.fit(X,y)\n",
        "predictions_B_and_A = model_B_and_A.predict(X_test)\n",
        "\n",
        "output_B_and_A = pd.DataFrame({'PassengerId': test_data.PassengerId, 'Survived': predictions_B_and_A})\n",
        "output_B_and_A.to_csv('my_submission_B_and_A.csv', index=False)\n",
        "print(\"Your submission was successfully saved!\")"
      ],
      "execution_count": 37,
      "outputs": [
        {
          "output_type": "stream",
          "text": [
            "Your submission was successfully saved!\n"
          ],
          "name": "stdout"
        }
      ]
    }
  ]
}